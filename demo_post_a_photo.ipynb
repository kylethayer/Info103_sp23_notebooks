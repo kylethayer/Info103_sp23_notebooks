{
 "cells": [
  {
   "cell_type": "markdown",
   "id": "8e8b04f7-3262-427e-b125-ec9e4284d0d9",
   "metadata": {
    "tags": []
   },
   "source": [
    "# Demo: Post a Photo"
   ]
  },
  {
   "cell_type": "markdown",
   "id": "71630ecc-59b1-421a-94b8-7c973e0a3c12",
   "metadata": {},
   "source": [
    "### Step 1: Load Praw code"
   ]
  },
  {
   "cell_type": "code",
   "execution_count": null,
   "id": "d93d5346-7256-48dd-9687-5919aabf6f74",
   "metadata": {},
   "outputs": [],
   "source": [
    "# Load some code called \"praw\" that will help us work with reddit\n",
    "import praw"
   ]
  },
  {
   "cell_type": "code",
   "execution_count": null,
   "id": "6c17ccfc-269d-4d21-80f8-d7dbe0576423",
   "metadata": {},
   "outputs": [],
   "source": [
    "# load your reddit keys\n",
    "%run reddit_keys.py"
   ]
  },
  {
   "cell_type": "markdown",
   "id": "42779d83-d829-41e5-9b05-cf9c68cd3ca4",
   "metadata": {},
   "source": [
    "### Step 4: Give praw (or fake_praw) your developer access passwords"
   ]
  },
  {
   "cell_type": "code",
   "execution_count": null,
   "id": "f2bcdc6b-b6e7-4348-9b9a-231aed259ed1",
   "metadata": {},
   "outputs": [],
   "source": [
    "# Give the praw code your reddit account info so\n",
    "# it can perform reddit actions\n",
    "reddit = praw.Reddit(\n",
    "    username=username, password=password,\n",
    "    client_id=client_id, client_secret=client_secret,\n",
    "    user_agent=\"a custom python script for user /\" + str(username)\n",
    ")"
   ]
  },
  {
   "cell_type": "markdown",
   "id": "006459cb-1a07-4a60-91b0-031174339753",
   "metadata": {},
   "source": [
    "### Step 5: Submit an image to Reddit"
   ]
  },
  {
   "cell_type": "code",
   "execution_count": null,
   "id": "b44dafab-9d25-4620-b6bd-bd4149400eca",
   "metadata": {
    "tags": []
   },
   "outputs": [],
   "source": [
    "# Post a photo reddit post\n",
    "# TODO: modify the text in the quotes below to change what and where this bot posts to reddit:\n",
    "# Make the image_path be the name of your file \n",
    "#   (it's easiest if the image is in the same folder as your code_\n",
    "reddit.subreddit(\n",
    "   \"info_103_sp23\"\n",
    ").submit_image(\n",
    "   \"Testing uploading an image to reddit\", \n",
    "   \"reddit-test-upload.jpg\"\n",
    ")"
   ]
  },
  {
   "cell_type": "code",
   "execution_count": null,
   "id": "67bd6082-cafa-4b6d-a43c-722353e3d78d",
   "metadata": {},
   "outputs": [],
   "source": [
    "import sys # to access the system\n",
    "import cv2\n",
    "img = cv2.imread(\"reddit-test-upload.jpg\", cv2.IMREAD_ANYCOLOR)\n",
    " \n",
    "while True:\n",
    "    cv2.imshow(\"Sheep\", img)\n",
    "    cv2.waitKey(0)\n",
    "    sys.exit() # to exit from all the processes\n",
    " \n",
    "cv2.destroyAllWindows() # destroy all windows"
   ]
  },
  {
   "cell_type": "code",
   "execution_count": null,
   "id": "14b24958-abe1-4be1-a5cc-6b57f0e1c480",
   "metadata": {},
   "outputs": [],
   "source": [
    "from matplotlib import pyplot as plt\n",
    "from matplotlib import image as mpimg\n",
    " \n",
    "plt.title(\"Sheep Image\")\n",
    "plt.xlabel(\"X pixel scaling\")\n",
    "plt.ylabel(\"Y pixels scaling\")\n",
    " \n",
    "image = mpimg.imread(\"reddit-test-upload.jpg\")\n",
    "plt.imshow(image)\n",
    "plt.show()"
   ]
  },
  {
   "cell_type": "code",
   "execution_count": null,
   "id": "77455a6c-d9f1-4d55-98be-3d16ef2ca66e",
   "metadata": {},
   "outputs": [],
   "source": [
    "getcwd() "
   ]
  },
  {
   "cell_type": "code",
   "execution_count": null,
   "id": "802ffe4a-dd73-4c19-a33d-e06345bfa07e",
   "metadata": {},
   "outputs": [],
   "source": [
    "import os"
   ]
  },
  {
   "cell_type": "code",
   "execution_count": null,
   "id": "a0bb5843-55ca-48fe-bf67-4505b1e98b26",
   "metadata": {},
   "outputs": [],
   "source": [
    "os.getcwd() "
   ]
  },
  {
   "cell_type": "code",
   "execution_count": null,
   "id": "7f317024-4ad6-494b-a935-a36a9e3085be",
   "metadata": {},
   "outputs": [],
   "source": [
    "pwd"
   ]
  },
  {
   "cell_type": "code",
   "execution_count": null,
   "id": "433c65f6-26b1-4b3e-86ac-f177212a6a1a",
   "metadata": {},
   "outputs": [],
   "source": []
  }
 ],
 "metadata": {
  "kernelspec": {
   "display_name": "Python 3 (ipykernel)",
   "language": "python",
   "name": "python3"
  },
  "language_info": {
   "codemirror_mode": {
    "name": "ipython",
    "version": 3
   },
   "file_extension": ".py",
   "mimetype": "text/x-python",
   "name": "python",
   "nbconvert_exporter": "python",
   "pygments_lexer": "ipython3",
   "version": "3.9.7"
  },
  "vscode": {
   "interpreter": {
    "hash": "369f2c481f4da34e4445cda3fffd2e751bd1c4d706f27375911949ba6bb62e1c"
   }
  }
 },
 "nbformat": 4,
 "nbformat_minor": 5
}
